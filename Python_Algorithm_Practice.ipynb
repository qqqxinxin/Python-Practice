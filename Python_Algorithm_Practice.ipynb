{
  "nbformat": 4,
  "nbformat_minor": 0,
  "metadata": {
    "colab": {
      "name": "Copy of Python Algorithm Practice",
      "version": "0.3.2",
      "provenance": [],
      "include_colab_link": true
    },
    "kernelspec": {
      "name": "python3",
      "display_name": "Python 3"
    }
  },
  "cells": [
    {
      "cell_type": "markdown",
      "metadata": {
        "id": "view-in-github",
        "colab_type": "text"
      },
      "source": [
        "[View in Colaboratory](https://colab.research.google.com/github/qqqxinxin/Python-Practice/blob/master/Python_Algorithm_Practice.ipynb)"
      ]
    },
    {
      "metadata": {
        "id": "TWXfePZ0q_Xq",
        "colab_type": "code",
        "colab": {}
      },
      "cell_type": "code",
      "source": [
        "# list comprehension\n",
        "wordlist = ['cat','dog','rabbit']\n",
        "letterlist = [ ]\n",
        "for aword in wordlist:\n",
        "\n",
        "    for aletter in aword:\n",
        "        letterlist.append(aletter)\n",
        "         \n",
        "print(letterlist)"
      ],
      "execution_count": 0,
      "outputs": []
    },
    {
      "metadata": {
        "id": "AYHrMDMwyE-F",
        "colab_type": "code",
        "colab": {}
      },
      "cell_type": "code",
      "source": [
        "wordlist = ['cat','dog','rabbit']\n",
        "\n",
        "num=[word[i] for word in wordlist for i in range(len(word))]\n",
        "print(num)"
      ],
      "execution_count": 0,
      "outputs": []
    },
    {
      "metadata": {
        "id": "y7Diof6KWkE3",
        "colab_type": "text"
      },
      "cell_type": "markdown",
      "source": [
        "# Object-Oriented Programming in Python: Defining Classes"
      ]
    },
    {
      "metadata": {
        "id": "RZTa1hhOyZHT",
        "colab_type": "code",
        "colab": {}
      },
      "cell_type": "code",
      "source": [
        "\n",
        "\n",
        "class Fraction:\n",
        "    \n",
        "    \n",
        "    def __init__(self,top,bottom):\n",
        "      self.num=top\n",
        "      self.den=bottom\n",
        "    \n",
        "  \n",
        "    def show(self):\n",
        "      return(self.num,\"/\",self.den)\n",
        "      #return str(self.num)+\"/\"+str(self.den)\n",
        "      \n",
        "      # 添加__str__ function 可以直接叫Fraction, 而show不可\n",
        "    \n",
        "    def __str__(self):\n",
        "      return str(self.num)+\"/\"+str(self.den)\n",
        "    \n",
        "    \n",
        "  \n",
        "    # '//' operator return the integer value of the quotient.\n",
        "    def __add__(self,otherfraction):\n",
        "      \n",
        "      newnum=self.num*otherfraction.den+self.den*otherfraction.num\n",
        "      newden=self.den * otherfraction.den\n",
        "      common=gcd(newnum,newden)\n",
        "      \n",
        "      return Fraction(newnum//common,newden//common)\n",
        "    \n",
        "    def __eq__(self,otherfraction):\n",
        "      firstnum=self.num* otherfraction.den\n",
        "      secondnum=otherfraction.num * self.den\n",
        "      \n",
        "      return firstnum==secondnum\n",
        "    \n",
        "    \n",
        "    def __sub__(self,otherfraction):\n",
        "      \n",
        "      newnum=self.num*otherfraction.den - self.den*otherfraction.num\n",
        "      newden=self.den * otherfraction.den\n",
        "      common=gcd(newnum,newden)\n",
        "      \n",
        "      return Fraction(newnum//common,newden//common)\n",
        "      \n",
        "    # less than\n",
        "    def __lt__(self,otherfraction):\n",
        "      firstnum=self.num* otherfraction.den\n",
        "      secondnum=otherfraction.num * self.den\n",
        "      \n",
        "      return firstnum < secondnum\n",
        "    \n",
        "    \n",
        "    # greater than\n",
        "    def __lt__(self,otherfraction):\n",
        "      firstnum=self.num* otherfraction.den\n",
        "      secondnum=otherfraction.num * self.den\n",
        "      \n",
        "      return firstnum > secondnum\n",
        "      \n",
        "      \n",
        "    \n",
        "    \n",
        "    \n",
        "\n",
        "#///////////////////////////////////////////////////////////////////////  \n",
        "# 最大公约数 （20，10） 最大公约数是10\n",
        "def gcd(m,n):\n",
        "      while m%n != 0:\n",
        "        oldm = m\n",
        "        oldn = n\n",
        "\n",
        "        m = oldn\n",
        "        n = oldm%oldn\n",
        "    \n",
        "      return n    \n",
        "   \n",
        "  "
      ],
      "execution_count": 0,
      "outputs": []
    },
    {
      "metadata": {
        "id": "dFXr2Etg9eAb",
        "colab_type": "code",
        "colab": {
          "base_uri": "https://localhost:8080/",
          "height": 104
        },
        "outputId": "06541328-c942-4719-f1e5-e5eb6dbfdc73"
      },
      "cell_type": "code",
      "source": [
        "My=Fraction(3,5)\n",
        "print(My.show())\n",
        "print(\"I ate\", My, \"of the pizza\")\n",
        "\n",
        "f1=Fraction(1,4)\n",
        "f2=Fraction(1,2)\n",
        "f3=Fraction(1,2)\n",
        "Total=f1+f2+f3\n",
        "Sub=f1-f2-f3\n",
        "print(Total)\n",
        "print(Sub)\n",
        "print(f3==f2)"
      ],
      "execution_count": 0,
      "outputs": [
        {
          "output_type": "stream",
          "text": [
            "(3, '/', 5)\n",
            "I ate 3/5 of the pizza\n",
            "5/4\n",
            "-3/4\n",
            "True\n"
          ],
          "name": "stdout"
        }
      ]
    },
    {
      "metadata": {
        "id": "EEFDNhWjWTQb",
        "colab_type": "text"
      },
      "cell_type": "markdown",
      "source": [
        "# Inheritance: Logic Gates and Circuits"
      ]
    },
    {
      "metadata": {
        "id": "QpZ5DfDJD0Ol",
        "colab_type": "code",
        "colab": {}
      },
      "cell_type": "code",
      "source": [
        "class LogicGate:\n",
        "\n",
        "    def __init__(self,n):\n",
        "        self.label = n\n",
        "        self.output = None\n",
        "\n",
        "    def getLabel(self):\n",
        "        return self.label\n",
        "\n",
        "    def getOutput(self):\n",
        "        self.output = self.performGateLogic()\n",
        "        return self.output\n",
        "      \n",
        "#Child class constructors need to call parent class constructors and then move on to their own distinguishing data\n",
        "class BinaryGate(LogicGate):\n",
        "\n",
        "    def __init__(self,n):\n",
        "        LogicGate.__init__(self,n)\n",
        "\n",
        "        self.pinA = None\n",
        "        self.pinB = None\n",
        "\n",
        "    def getPinA(self):\n",
        "        return int(input(\"Enter Pin A input for gate \"+ self.getLabel()+\"-->\"))\n",
        "\n",
        "    def getPinB(self):\n",
        "        return int(input(\"Enter Pin B input for gate \"+ self.getLabel()+\"-->\"))\n",
        "      \n",
        "      \n",
        "      \n",
        "class UnaryGate(LogicGate):\n",
        "\n",
        "    def __init__(self,n):\n",
        "        LogicGate.__init__(self,n)\n",
        "\n",
        "        self.pin = None\n",
        "\n",
        "    def getPin(self):\n",
        "        return int(input(\"Enter Pin input for gate \"+ self.getLabel()+\"-->\"))      \n",
        "      "
      ],
      "execution_count": 0,
      "outputs": []
    },
    {
      "metadata": {
        "id": "EPnyM_gqQORq",
        "colab_type": "code",
        "colab": {
          "base_uri": "https://localhost:8080/",
          "height": 52
        },
        "outputId": "26b5be73-e074-49cc-f266-0f2b23e64bcd"
      },
      "cell_type": "code",
      "source": [
        "import math\n",
        "class Line:\n",
        "    # we know coor1 and coor2 are two tuples(x,y)\n",
        "    def __init__(self,coor1,coor2):\n",
        "        self.coor1=coor1\n",
        "        self.coor2=coor2\n",
        "        \n",
        "    \n",
        "    def distance(self):\n",
        "        # tuple unpacking\n",
        "        x1,y1=self.coor1\n",
        "        x2,y2=self.coor2\n",
        "        \n",
        "        return math.sqrt((x2-x1)**2+(y2-y1)**2)\n",
        "    \n",
        "    def slope(self):\n",
        "        # tuple unpacking\n",
        "        x1,y1=self.coor1\n",
        "        x2,y2=self.coor2\n",
        "        return (y2-y1)/(x2-x1)\n",
        "      \n",
        "coordinate1 = (3,2)\n",
        "coordinate2 = (8,10)\n",
        "\n",
        "li = Line(coordinate1,coordinate2)\n",
        "print(li.distance())\n",
        "print(li.slope())\n"
      ],
      "execution_count": 0,
      "outputs": [
        {
          "output_type": "stream",
          "text": [
            "9.433981132056603\n",
            "1.6\n"
          ],
          "name": "stdout"
        }
      ]
    },
    {
      "metadata": {
        "id": "NwLycgzkQggR",
        "colab_type": "code",
        "colab": {
          "base_uri": "https://localhost:8080/",
          "height": 52
        },
        "outputId": "f15e0cf4-371c-4753-d65a-5b46489e9ecf"
      },
      "cell_type": "code",
      "source": [
        "class Cylinder:\n",
        "    \n",
        "    # class attribute: call it with self.pi or Cylinder pi\n",
        "    pi=3.14\n",
        "    def __init__(self,height=1,radius=1):\n",
        "        self.height=height\n",
        "        self.radius=radius\n",
        "        \n",
        "    def volume(self):\n",
        "        return (Cylinder.pi*self.radius**2*self.height)\n",
        "    \n",
        "    def surface_area(self):\n",
        "        return (2*Cylinder.pi*self.radius*self.height)+(2*Cylinder.pi*self.radius**2)\n",
        "      \n",
        "# EXAMPLE OUTPUT\n",
        "c = Cylinder(2,3)\n",
        "print(c.volume())\n",
        "print(c.surface_area())"
      ],
      "execution_count": 0,
      "outputs": [
        {
          "output_type": "stream",
          "text": [
            "56.52\n",
            "94.2\n"
          ],
          "name": "stdout"
        }
      ]
    },
    {
      "metadata": {
        "id": "_2uR0zvVQ_nj",
        "colab_type": "code",
        "colab": {
          "base_uri": "https://localhost:8080/",
          "height": 69
        },
        "outputId": "ccf02f1e-119c-47e7-ad07-d1e524787829"
      },
      "cell_type": "code",
      "source": [
        "class Account:\n",
        "    \n",
        "    def __init__(self,name,balance):\n",
        "        self.name=name\n",
        "        self.balance=balance\n",
        "    \n",
        "    def deposit(self,amount):\n",
        "        self.balance=self.balance+amount\n",
        "        return (\"Deposit {}\".format(amount))\n",
        "    \n",
        "    def withdraw(self,amount):\n",
        "        if self.balance >= amount:\n",
        "            self.balance=self.balance-amount\n",
        "        else:\n",
        "            print(\"Not Enough Money to withdraw\")\n",
        "    def __str__(self):\n",
        "        return(\"Account Owner: {} \\nAccount Balance: {}\".format(self.name,self.balance))\n",
        "\n",
        "# 1. Instantiate the class\n",
        "acct1 = Account('Jose',100)   \n",
        "# 2. Print the object\n",
        "print(acct1)\n",
        "# 3. Show the account owner attribute\n",
        "acct1.name"
      ],
      "execution_count": 0,
      "outputs": [
        {
          "output_type": "stream",
          "text": [
            "Account Owner: Jose \n",
            "Account Balance: 100\n"
          ],
          "name": "stdout"
        },
        {
          "output_type": "execute_result",
          "data": {
            "text/plain": [
              "'Jose'"
            ]
          },
          "metadata": {
            "tags": []
          },
          "execution_count": 7
        }
      ]
    }
  ]
}